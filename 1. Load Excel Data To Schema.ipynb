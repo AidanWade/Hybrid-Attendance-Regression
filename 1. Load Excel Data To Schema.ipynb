{
 "cells": [
  {
   "cell_type": "markdown",
   "metadata": {},
   "source": [
    "# Load Data\n",
    "Reads from excel files and exports to invidual, bronze layer tables"
   ]
  },
  {
   "cell_type": "markdown",
   "metadata": {},
   "source": [
    "### Library Definition and Data Import Model"
   ]
  },
  {
   "cell_type": "code",
   "execution_count": null,
   "metadata": {},
   "outputs": [],
   "source": [
    "%load_ext autoreload\n",
    "%autoreload 2\n",
    "\n",
    "import pandas as pd\n",
    "import numpy as np\n",
    "import math\n",
    "import sqlalchemy\n",
    "import csv\n",
    "import gc\n",
    "import scipy\n",
    "from config import Config\n",
    "\n",
    "# custom class for managing data load and export\n",
    "from CustomLibs.ImportTarget import ImportTarget\n",
    "from CustomLibs.CustomFunctions import sqlcol\n",
    "\n",
    "\n",
    "# localdbname='Facilities'\n",
    "# localservername='localhost'\n",
    "engine = sqlalchemy.create_engine(Config.CONN_STR)\n"
   ]
  },
  {
   "cell_type": "markdown",
   "metadata": {},
   "source": [
    "### Data Load From CSV, export to SQL"
   ]
  },
  {
   "cell_type": "code",
   "execution_count": null,
   "metadata": {},
   "outputs": [],
   "source": [
    "targets=[]\n",
    "\n",
    "#Conversion lookup to set export dtypes explicitly\n",
    "type_dict={'i':sqlalchemy.types.INT(),\n",
    "           'f':sqlalchemy.types.FLOAT(),\n",
    "           'd':sqlalchemy.types.Date(),\n",
    "           's10':sqlalchemy.types.VARCHAR(length=10),\n",
    "           's100':sqlalchemy.types.VARCHAR(length=100)}\n",
    "\n",
    "# Read import definitions from csv file\n",
    "with open('.\\Raw Data\\import_ranges.csv',\"r\",encoding=\"utf-8\") as filein:\n",
    "    import_ranges=csv.DictReader(filein)\n",
    "    for row in import_ranges:\n",
    "        importflag = int(row.pop('importflag'))\n",
    "        if importflag == 0:\n",
    "            print(f'Skipping {row[\"schema\"]}.{row[\"table\"]}')\n",
    "            continue\n",
    "        # print(f'{row[\"schema\"]}.{row[\"table\"]}')\n",
    "        row['types']=[sqlalchemy.types.BIGINT()]+[type_dict[x] for x in row['types'].split(',')]\n",
    "        targets.append(ImportTarget(row))\n",
    "\n",
    "# For each import definition, read the data and export to sql\n",
    "for target in targets:\n",
    "    target.load_data()\n",
    "    target.export_data(engine)\n",
    "    target.df=None\n",
    "\n",
    "#clean up\n",
    "del targets\n",
    "_ = gc.collect()\n",
    "\n"
   ]
  }
 ],
 "metadata": {
  "kernelspec": {
   "display_name": ".venv",
   "language": "python",
   "name": "python3"
  },
  "language_info": {
   "codemirror_mode": {
    "name": "ipython",
    "version": 3
   },
   "file_extension": ".py",
   "mimetype": "text/x-python",
   "name": "python",
   "nbconvert_exporter": "python",
   "pygments_lexer": "ipython3",
   "version": "3.11.4"
  }
 },
 "nbformat": 4,
 "nbformat_minor": 2
}
